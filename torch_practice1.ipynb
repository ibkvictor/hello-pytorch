{
  "nbformat": 4,
  "nbformat_minor": 0,
  "metadata": {
    "colab": {
      "name": "torch_practice1.ipynb",
      "provenance": [],
      "authorship_tag": "ABX9TyNJlKdbUVvQ6W+di38FVk0l",
      "include_colab_link": true
    },
    "kernelspec": {
      "name": "python3",
      "display_name": "Python 3"
    }
  },
  "cells": [
    {
      "cell_type": "markdown",
      "metadata": {
        "id": "view-in-github",
        "colab_type": "text"
      },
      "source": [
        "<a href=\"https://colab.research.google.com/github/ibkvictor/hello-pytorch/blob/main/torch_practice1.ipynb\" target=\"_parent\"><img src=\"https://colab.research.google.com/assets/colab-badge.svg\" alt=\"Open In Colab\"/></a>"
      ]
    },
    {
      "cell_type": "code",
      "metadata": {
        "id": "w8CgBRsINCss"
      },
      "source": [
        "import torch\n",
        "import torch.nn as nn\n",
        "import torch.nn.functional as F"
      ],
      "execution_count": 1,
      "outputs": []
    },
    {
      "cell_type": "code",
      "metadata": {
        "id": "-ydkFdA5NJQI"
      },
      "source": [
        "class Net(nn.Module):\n",
        "\n",
        "  def __init__(self):\n",
        "    super().__init__()\n",
        "\n",
        "    #initializing the different types of layers used\n",
        "    self.cv1 = nn.Conv2d(1, 6, 3)\n",
        "    self.cv2 = nn.Conv2d(6, 16, 3)\n",
        "\n",
        "    self.fc1 = nn.Linear(6 * 6 * 16, 120) #576 nodes of flattened out image shape\n",
        "    self.fc2 = nn.Linear(120, 84)\n",
        "    self.fc3 = nn.Linear(84, 10)\n",
        "\n",
        "  def forward(self, x):\n",
        "    #first convolution and pooling\n",
        "    x = F.max_pool2d(F.relu(self.cv1(x)), (2,2)) #know the difference btw F and nn layers ( calculation or functions vs. actual layers )\n",
        "    #also the difference of capital letters and otherwise\n",
        "\n",
        "    #second convolution and pooling\n",
        "    x = F.max_pool2d(F.relu(self.cv2(x)), (2))\n",
        "\n",
        "    x = x.view(-1, self.num_flat_features(x))\n",
        "    print(x.size()) #left for  debugging (Flatten)\n",
        "    x = F.relu(self.fc1(x))\n",
        "    x = F.relu(self.fc2(x))\n",
        "    out = self.fc3(x)\n",
        "    return out\n",
        "\n",
        "  def num_flat_features(self, x):\n",
        "    size = x.size()[1:] #take all of the sizes except batch dim.\n",
        "    features = 1\n",
        "    for s in size:\n",
        "      features *= s\n",
        "\n",
        "    return features"
      ],
      "execution_count": 3,
      "outputs": []
    },
    {
      "cell_type": "code",
      "metadata": {
        "colab": {
          "base_uri": "https://localhost:8080/"
        },
        "id": "OtX75fKBTEeu",
        "outputId": "056d8b08-2475-4a21-ac4f-270fc5884069"
      },
      "source": [
        "net = Net()\n",
        "print(net)"
      ],
      "execution_count": 4,
      "outputs": [
        {
          "output_type": "stream",
          "text": [
            "Net(\n",
            "  (cv1): Conv2d(1, 6, kernel_size=(3, 3), stride=(1, 1))\n",
            "  (cv2): Conv2d(6, 16, kernel_size=(3, 3), stride=(1, 1))\n",
            "  (fc1): Linear(in_features=576, out_features=120, bias=True)\n",
            "  (fc2): Linear(in_features=120, out_features=84, bias=True)\n",
            "  (fc3): Linear(in_features=84, out_features=10, bias=True)\n",
            ")\n"
          ],
          "name": "stdout"
        }
      ]
    },
    {
      "cell_type": "code",
      "metadata": {
        "colab": {
          "base_uri": "https://localhost:8080/"
        },
        "id": "SRBISAElTMA_",
        "outputId": "80e4d07e-a9cb-4842-fef7-ebdad39f8406"
      },
      "source": [
        "print(net.parameters) #network parameters"
      ],
      "execution_count": 5,
      "outputs": [
        {
          "output_type": "stream",
          "text": [
            "<bound method Module.parameters of Net(\n",
            "  (cv1): Conv2d(1, 6, kernel_size=(3, 3), stride=(1, 1))\n",
            "  (cv2): Conv2d(6, 16, kernel_size=(3, 3), stride=(1, 1))\n",
            "  (fc1): Linear(in_features=576, out_features=120, bias=True)\n",
            "  (fc2): Linear(in_features=120, out_features=84, bias=True)\n",
            "  (fc3): Linear(in_features=84, out_features=10, bias=True)\n",
            ")>\n"
          ],
          "name": "stdout"
        }
      ]
    },
    {
      "cell_type": "code",
      "metadata": {
        "colab": {
          "base_uri": "https://localhost:8080/"
        },
        "id": "ytkS6umfZzV8",
        "outputId": "39d01005-d07e-42e8-ad7b-6aed3ec0a818"
      },
      "source": [
        "print(net.parameters()) #it is an object\n",
        "#hence\n",
        "print(len(list(net.parameters()))) #has 10 actual trainable parameters"
      ],
      "execution_count": 6,
      "outputs": [
        {
          "output_type": "stream",
          "text": [
            "<generator object Module.parameters at 0x7ffb20598d58>\n",
            "10\n"
          ],
          "name": "stdout"
        }
      ]
    },
    {
      "cell_type": "code",
      "metadata": {
        "colab": {
          "base_uri": "https://localhost:8080/"
        },
        "id": "Pr2q2FPTaSZ_",
        "outputId": "0a81cbf4-abeb-4907-b926-4976453659d3"
      },
      "source": [
        "print(list(net.parameters())[0]) #first parameter"
      ],
      "execution_count": 7,
      "outputs": [
        {
          "output_type": "stream",
          "text": [
            "Parameter containing:\n",
            "tensor([[[[ 0.2486,  0.0480, -0.0728],\n",
            "          [-0.2017,  0.3123, -0.2255],\n",
            "          [-0.2501,  0.0513, -0.0997]]],\n",
            "\n",
            "\n",
            "        [[[-0.0354,  0.1109, -0.0159],\n",
            "          [ 0.0390, -0.0225, -0.0757],\n",
            "          [-0.3162,  0.2986, -0.2623]]],\n",
            "\n",
            "\n",
            "        [[[ 0.1769, -0.2397, -0.0101],\n",
            "          [-0.0317,  0.2137,  0.1802],\n",
            "          [ 0.0547, -0.2941, -0.0164]]],\n",
            "\n",
            "\n",
            "        [[[ 0.1915,  0.2895,  0.1502],\n",
            "          [-0.1199, -0.0533,  0.0309],\n",
            "          [ 0.1550,  0.1738,  0.2024]]],\n",
            "\n",
            "\n",
            "        [[[-0.2923,  0.1422,  0.0815],\n",
            "          [ 0.1883,  0.2606,  0.2460],\n",
            "          [ 0.1215, -0.0795, -0.3097]]],\n",
            "\n",
            "\n",
            "        [[[-0.3252,  0.1998,  0.0292],\n",
            "          [ 0.2720, -0.0745, -0.0488],\n",
            "          [ 0.0036,  0.1469,  0.3103]]]], requires_grad=True)\n"
          ],
          "name": "stdout"
        }
      ]
    },
    {
      "cell_type": "code",
      "metadata": {
        "id": "MGfjqExna6c3"
      },
      "source": [
        "#testing with input\n",
        "a = torch.randn(1, 1, 32, 32, requires_grad=True) #an image of one channel and size 32 by 32. dont forget to add false batch.\n",
        "#requires_grad important for creating and retaining graph. This ensures that backward does not throw error (exception)"
      ],
      "execution_count": 2,
      "outputs": []
    },
    {
      "cell_type": "code",
      "metadata": {
        "colab": {
          "base_uri": "https://localhost:8080/"
        },
        "id": "dG6076jAbJgS",
        "outputId": "7cfe4395-b4b7-448e-ae1d-bfc12a25afb9"
      },
      "source": [
        "t = net(a)"
      ],
      "execution_count": 8,
      "outputs": [
        {
          "output_type": "stream",
          "text": [
            "torch.Size([1, 576])\n"
          ],
          "name": "stdout"
        }
      ]
    },
    {
      "cell_type": "code",
      "metadata": {
        "colab": {
          "base_uri": "https://localhost:8080/"
        },
        "id": "18y6c3HKbSQp",
        "outputId": "0444bc5a-6c35-439e-c52a-45c8a01851ef"
      },
      "source": [
        "print(t)"
      ],
      "execution_count": 9,
      "outputs": [
        {
          "output_type": "stream",
          "text": [
            "tensor([[-0.0401,  0.0708, -0.0458,  0.0499,  0.0666, -0.1272, -0.0236, -0.0713,\n",
            "         -0.0156,  0.0484]], grad_fn=<AddmmBackward>)\n"
          ],
          "name": "stdout"
        }
      ]
    },
    {
      "cell_type": "markdown",
      "metadata": {
        "id": "enbvy7mOea4m"
      },
      "source": [
        "to zero all the buffered gradients and used randn gradients"
      ]
    },
    {
      "cell_type": "code",
      "metadata": {
        "id": "SQ8FkdTTeQIc"
      },
      "source": [
        "net.zero_grad()\n",
        "t.sum().backward(retain_graph=True)"
      ],
      "execution_count": 11,
      "outputs": []
    },
    {
      "cell_type": "code",
      "metadata": {
        "colab": {
          "base_uri": "https://localhost:8080/"
        },
        "id": "fIp7zZCLnmou",
        "outputId": "877ed02c-1f9e-4e87-9962-6151c14a16bc"
      },
      "source": [
        "loss_fn = nn.MSELoss() #loss is like a class or package\n",
        "expected = torch.randn(1, 10) # size of output \"t\"\n",
        "loss = loss_fn(t, expected) #scalar loss value\n",
        "\n",
        "print(loss)\n"
      ],
      "execution_count": 12,
      "outputs": [
        {
          "output_type": "stream",
          "text": [
            "tensor(1.1391, grad_fn=<MseLossBackward>)\n"
          ],
          "name": "stdout"
        }
      ]
    },
    {
      "cell_type": "code",
      "metadata": {
        "colab": {
          "base_uri": "https://localhost:8080/"
        },
        "id": "DwYDAzMUeqzq",
        "outputId": "fde3c1a0-2ec3-41fd-f43b-67113f85fdc3"
      },
      "source": [
        "print(loss.grad_fn) \n",
        "print(loss.grad_fn.next_functions[0][0]) #the gradient functions of the immediately following function\n",
        "print(loss.grad_fn.next_functions[0][0])"
      ],
      "execution_count": 13,
      "outputs": [
        {
          "output_type": "stream",
          "text": [
            "<MseLossBackward object at 0x7ffad36d0518>\n",
            "<AddmmBackward object at 0x7ffad36c5a20>\n",
            "<AddmmBackward object at 0x7ffad36c59b0>\n"
          ],
          "name": "stdout"
        }
      ]
    },
    {
      "cell_type": "markdown",
      "metadata": {
        "id": "ZCKdC_1yp13O"
      },
      "source": [
        "exploring gradients before and after backward() [backprop] -- biases"
      ]
    },
    {
      "cell_type": "code",
      "metadata": {
        "colab": {
          "base_uri": "https://localhost:8080/"
        },
        "id": "NaXeKpOnpEa0",
        "outputId": "ce21de80-cfe7-4606-ca8a-7db06e97b975"
      },
      "source": [
        "#zero grads first\n",
        "net.zero_grad()\n",
        "\n",
        "print(net.fc3.bias.grad)\n",
        "\n",
        "a.detach_()\n",
        "loss.backward() #still dont fully understand this. had to  recompile\n",
        "\n",
        "\n",
        "print(net.fc3.bias.grad)"
      ],
      "execution_count": 14,
      "outputs": [
        {
          "output_type": "stream",
          "text": [
            "tensor([0., 0., 0., 0., 0., 0., 0., 0., 0., 0.])\n",
            "tensor([-0.1844,  0.1911,  0.2315, -0.4516,  0.2387, -0.1557, -0.1849, -0.0759,\n",
            "        -0.0671, -0.0431])\n"
          ],
          "name": "stdout"
        }
      ]
    },
    {
      "cell_type": "markdown",
      "metadata": {
        "id": "VALyRYpNt_cA"
      },
      "source": [
        "updating weights"
      ]
    },
    {
      "cell_type": "code",
      "metadata": {
        "id": "0RcbvPNLqgFV"
      },
      "source": [
        "learning_rate = 0.01\n",
        "\n",
        "for s in net.parameters():\n",
        "  s.data.sub_(learning_rate * s.grad.data) #sub_ -- subraction, grad.data -- the gradient of that parameter"
      ],
      "execution_count": 15,
      "outputs": []
    },
    {
      "cell_type": "code",
      "metadata": {
        "id": "fTGoefRZumL5"
      },
      "source": [
        "# using optim module\n",
        "import torch.optim as optimizer\n",
        "\n",
        "optimizer = optimizer(net.parameters(), lr = 0.01)\n",
        "\n",
        "optimizer.zero_grad()\n",
        "output = net(input)\n",
        "loss = nn.MSELoss(output, expected)\n",
        "loss.backward()\n",
        "optimizer.step()"
      ],
      "execution_count": null,
      "outputs": []
    }
  ]
}